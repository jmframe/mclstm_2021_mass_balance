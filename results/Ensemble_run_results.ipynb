{
 "cells": [
  {
   "cell_type": "code",
   "execution_count": 1,
   "id": "1603b820",
   "metadata": {},
   "outputs": [],
   "source": [
    "import numpy as np\n",
    "import pandas as pd\n",
    "import pickle as pkl\n",
    "import xarray as xr\n",
    "from neuralhydrology.utils.nh_results_ensemble import create_results_ensemble\n",
    "from pathlib import Path"
   ]
  },
  {
   "cell_type": "code",
   "execution_count": 15,
   "id": "666972b4",
   "metadata": {},
   "outputs": [
    {
     "name": "stderr",
     "output_type": "stream",
     "text": [
      "\r",
      "  0%|          | 0/8 [00:00<?, ?it/s]"
     ]
    },
    {
     "name": "stdout",
     "output_type": "stream",
     "text": [
      "Loading results for each run.\n"
     ]
    },
    {
     "name": "stderr",
     "output_type": "stream",
     "text": [
      "100%|██████████| 8/8 [00:04<00:00,  1.84it/s]\n",
      "  1%|          | 4/531 [00:00<00:14, 36.91it/s]"
     ]
    },
    {
     "name": "stdout",
     "output_type": "stream",
     "text": [
      "Combining results and calculating metrics.\n"
     ]
    },
    {
     "name": "stderr",
     "output_type": "stream",
     "text": [
      "100%|██████████| 531/531 [00:20<00:00, 25.92it/s]\n"
     ]
    }
   ],
   "source": [
    "path_pre='/home/jmframe/mclstm_2021_extrapolate/experiment/runs/mclstm/standard_training/daymet/'\n",
    "mc_daymet_standard_runs = [\n",
    "    Path(path_pre+'mclstm_standard_training_0_1810_121500/'),\n",
    "    Path(path_pre+'mclstm_standard_training_1_1610_152510/'),\n",
    "    Path(path_pre+'mclstm_standard_training_2_1610_152731/'),\n",
    "    Path(path_pre+'mclstm_standard_training_3_1610_152822/'),\n",
    "    Path(path_pre+'mclstm_standard_training_4_1610_153116/'),\n",
    "    Path(path_pre+'mclstm_standard_training_5_2010_083023/'),\n",
    "    Path(path_pre+'mclstm_standard_training_6_2110_214858/'),\n",
    "    Path(path_pre+'mclstm_standard_training_7_2110_214911/')\n",
    "]\n",
    "mc_daymet = create_results_ensemble(mc_daymet_standard_runs)\n",
    "result_dir = '/home/jmframe/mclstm_2021_mass_balance/results/model_output_for_analysis/'\n",
    "with open(result_dir+'mclstm_time_split1_daymet_ens.p', 'wb') as fb:\n",
    "    pkl.dump(mc_daymet,fb)"
   ]
  },
  {
   "cell_type": "code",
   "execution_count": 14,
   "id": "f344fec3",
   "metadata": {},
   "outputs": [
    {
     "name": "stderr",
     "output_type": "stream",
     "text": [
      " 12%|█▎        | 1/8 [00:00<00:00,  7.73it/s]"
     ]
    },
    {
     "name": "stdout",
     "output_type": "stream",
     "text": [
      "Loading results for each run.\n"
     ]
    },
    {
     "name": "stderr",
     "output_type": "stream",
     "text": [
      "100%|██████████| 8/8 [00:04<00:00,  1.88it/s]\n",
      "  1%|          | 4/531 [00:00<00:14, 36.18it/s]"
     ]
    },
    {
     "name": "stdout",
     "output_type": "stream",
     "text": [
      "Combining results and calculating metrics.\n"
     ]
    },
    {
     "name": "stderr",
     "output_type": "stream",
     "text": [
      "100%|██████████| 531/531 [00:20<00:00, 25.64it/s]\n"
     ]
    }
   ],
   "source": [
    "path_pre='/home/jmframe/mclstm_2021_extrapolate/experiment/runs/mclstm/standard_training/nldas/'\n",
    "mc_nldas_standard_runs = [\n",
    "    Path(path_pre+'mclstm_standard_training_0_0707_082604/'),\n",
    "    Path(path_pre+'mclstm_standard_training_1_1810_121617/'),\n",
    "    Path(path_pre+'mclstm_standard_training_2_1810_122004/'),\n",
    "    Path(path_pre+'mclstm_standard_training_3_1810_122012/'),\n",
    "    Path(path_pre+'mclstm_standard_training_4_2010_083104/'),\n",
    "    Path(path_pre+'mclstm_standard_training_5_2010_083131/'),\n",
    "    Path(path_pre+'mclstm_standard_training_6_2010_083916/'),\n",
    "    Path(path_pre+'mclstm_standard_training_7_2110_214837/')\n",
    "]\n",
    "mc_nldas = create_results_ensemble(mc_nldas_standard_runs)\n",
    "result_dir = '/home/jmframe/mclstm_2021_mass_balance/results/model_output_for_analysis/'\n",
    "with open(result_dir+'mclstm_time_split1_nldas_ens.p', 'wb') as fb:\n",
    "    pkl.dump(mc_nldas,fb)"
   ]
  },
  {
   "cell_type": "code",
   "execution_count": 16,
   "id": "cd39b2e5",
   "metadata": {},
   "outputs": [
    {
     "name": "stderr",
     "output_type": "stream",
     "text": [
      "\r",
      "  0%|          | 0/8 [00:00<?, ?it/s]"
     ]
    },
    {
     "name": "stdout",
     "output_type": "stream",
     "text": [
      "Loading results for each run.\n"
     ]
    },
    {
     "name": "stderr",
     "output_type": "stream",
     "text": [
      "100%|██████████| 8/8 [00:04<00:00,  1.86it/s]\n",
      "  1%|▏         | 7/531 [00:00<00:07, 67.63it/s]"
     ]
    },
    {
     "name": "stdout",
     "output_type": "stream",
     "text": [
      "Combining results and calculating metrics.\n"
     ]
    },
    {
     "name": "stderr",
     "output_type": "stream",
     "text": [
      "100%|██████████| 531/531 [00:14<00:00, 36.68it/s]\n"
     ]
    }
   ],
   "source": [
    "path_pre='/home/gsnearing/projects/mclstm_paper/experiment/runs/lstm/standard_training/'\n",
    "lstm_daymet_standard_runs = [\n",
    "    Path(path_pre+'lstm_standard_training_0_1605_101922/'),\n",
    "    Path(path_pre+'lstm_standard_training_1_1605_101924/'),\n",
    "    Path(path_pre+'lstm_standard_training_2_1605_101918/'),\n",
    "    Path(path_pre+'lstm_standard_training_3_1605_101920/'),\n",
    "    Path(path_pre+'lstm_standard_training_4_1605_101932/'),\n",
    "    Path(path_pre+'lstm_standard_training_5_1605_101927/'),\n",
    "    Path(path_pre+'lstm_standard_training_6_1605_101934/'),\n",
    "    Path(path_pre+'lstm_standard_training_7_1605_101917/')\n",
    "]\n",
    "lstm_daymet = create_results_ensemble(lstm_daymet_standard_runs)\n",
    "result_dir = '/home/jmframe/mclstm_2021_mass_balance/results/model_output_for_analysis/'\n",
    "with open(result_dir+'lstm_time_split1_daymet_ens.p', 'wb') as fb:\n",
    "    pkl.dump(lstm_daymet,fb)"
   ]
  },
  {
   "cell_type": "code",
   "execution_count": 17,
   "id": "2cca3ba9",
   "metadata": {},
   "outputs": [
    {
     "name": "stderr",
     "output_type": "stream",
     "text": [
      " 12%|█▎        | 1/8 [00:00<00:00,  8.24it/s]"
     ]
    },
    {
     "name": "stdout",
     "output_type": "stream",
     "text": [
      "Loading results for each run.\n"
     ]
    },
    {
     "name": "stderr",
     "output_type": "stream",
     "text": [
      "100%|██████████| 8/8 [00:04<00:00,  1.81it/s]\n",
      "  1%|▏         | 7/531 [00:00<00:07, 67.52it/s]"
     ]
    },
    {
     "name": "stdout",
     "output_type": "stream",
     "text": [
      "Combining results and calculating metrics.\n"
     ]
    },
    {
     "name": "stderr",
     "output_type": "stream",
     "text": [
      "100%|██████████| 531/531 [00:14<00:00, 36.69it/s]\n"
     ]
    }
   ],
   "source": [
    "path_pre='/home/jmframe/mclstm_2021_extrapolate/experiment/runs/lstm/standard_training/'\n",
    "lstm_nldas_standard_runs = [\n",
    "    Path(path_pre+'lstm_standard_training_0_0907_104623/'),\n",
    "    Path(path_pre+'lstm_standard_training_1_2110_222005/'),\n",
    "    Path(path_pre+'lstm_standard_training_2_2210_081000/'),\n",
    "    Path(path_pre+'lstm_standard_training_3_2210_080902/'),\n",
    "    Path(path_pre+'lstm_standard_training_4_2210_135405/'),\n",
    "    Path(path_pre+'lstm_standard_training_5_2210_135413/'),\n",
    "    Path(path_pre+'lstm_standard_training_6_2210_192608/'),\n",
    "    Path(path_pre+'lstm_standard_training_7_2210_192615/')\n",
    "]\n",
    "lstm_nldas = create_results_ensemble(lstm_nldas_standard_runs)\n",
    "result_dir = '/home/jmframe/mclstm_2021_mass_balance/results/model_output_for_analysis/'\n",
    "with open(result_dir+'lstm_time_split1_nldas_ens.p', 'wb') as fb:\n",
    "    pkl.dump(lstm_nldas,fb)"
   ]
  },
  {
   "cell_type": "code",
   "execution_count": null,
   "id": "573f20fe",
   "metadata": {},
   "outputs": [],
   "source": []
  }
 ],
 "metadata": {
  "kernelspec": {
   "display_name": "Python 3",
   "language": "python",
   "name": "python3"
  },
  "language_info": {
   "codemirror_mode": {
    "name": "ipython",
    "version": 3
   },
   "file_extension": ".py",
   "mimetype": "text/x-python",
   "name": "python",
   "nbconvert_exporter": "python",
   "pygments_lexer": "ipython3",
   "version": "3.7.10"
  }
 },
 "nbformat": 4,
 "nbformat_minor": 5
}
